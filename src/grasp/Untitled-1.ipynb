{
 "cells": [
  {
   "cell_type": "code",
   "execution_count": 1,
   "id": "9e2b16d0",
   "metadata": {},
   "outputs": [
    {
     "data": {
      "text/plain": [
       "<pyrealsense2.pyrealsense2.pipeline_profile at 0xffff8ed3e2f0>"
      ]
     },
     "execution_count": 1,
     "metadata": {},
     "output_type": "execute_result"
    }
   ],
   "source": [
    "import pyrealsense2 as rs\n",
    "\n",
    "# Configure pipeline\n",
    "pipeline = rs.pipeline()\n",
    "config = rs.config()\n",
    "\n",
    "# Depth: 640x480 @ 30 FPS (most reliable)\n",
    "config.enable_stream(rs.stream.depth, 640, 480, rs.format.z16, 30)\n",
    "\n",
    "# Color: 640x480 @ 30 FPS (match FPS)\n",
    "config.enable_stream(rs.stream.color, 640, 480, rs.format.bgr8, 30)\n",
    "\n",
    "pipeline.start(config)"
   ]
  },
  {
   "cell_type": "code",
   "execution_count": 3,
   "id": "3c278ef8",
   "metadata": {},
   "outputs": [],
   "source": [
    "\n",
    "# try:\n",
    "#     while True:\n",
    "for i in range(10):\n",
    "        # Create a pipeline object. This object configures the streaming camera and owns it's handle\n",
    "    frames = pipeline.wait_for_frames()\n",
    "    depth = frames.get_depth_frame()\n",
    "    if not depth: continue\n",
    "\n",
    "# finally:\n",
    "#     pipeline.stop()"
   ]
  },
  {
   "cell_type": "code",
   "execution_count": 4,
   "id": "c887b8b2",
   "metadata": {},
   "outputs": [],
   "source": [
    "color_frame = frames.get_color_frame().get_data()\n",
    "depth_frame = frames.get_depth_frame().get_data()\n"
   ]
  },
  {
   "cell_type": "code",
   "execution_count": null,
   "id": "3f63a3d4",
   "metadata": {},
   "outputs": [],
   "source": [
    "import numpy as np\n",
    "\n",
    "np.asanyarray(frame.get_data()).shape"
   ]
  },
  {
   "cell_type": "code",
   "execution_count": 7,
   "id": "a4b34e07",
   "metadata": {},
   "outputs": [
    {
     "data": {
      "image/png": "[encoded data removed]",
      "text/plain": [
       "<Figure size 640x480 with 1 Axes>"
      ]
     },
     "metadata": {},
     "output_type": "display_data"
    }
   ],
   "source": [
    "\n",
    "import matplotlib.pyplot as plt\n",
    "%matplotlib inline\n",
    "\n",
    "# Display the image\n",
    "plt.imshow(depth_frame)\n",
    "plt.axis('off')  # Hide axes\n",
    "plt.show()"
   ]
  },
  {
   "cell_type": "code",
   "execution_count": null,
   "id": "5e3eb0fe",
   "metadata": {},
   "outputs": [],
   "source": []
  }
 ],
 "metadata": {
  "kernelspec": {
   "display_name": "ros2",
   "language": "python",
   "name": "python3"
  },
  "language_info": {
   "codemirror_mode": {
    "name": "ipython",
    "version": 3
   },
   "file_extension": ".py",
   "mimetype": "text/x-python",
   "name": "python",
   "nbconvert_exporter": "python",
   "pygments_lexer": "ipython3",
   "version": "3.10.13"
  }
 },
 "nbformat": 4,
 "nbformat_minor": 5
}
